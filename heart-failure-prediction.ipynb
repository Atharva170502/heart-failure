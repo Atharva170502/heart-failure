{
 "cells": [
  {
   "cell_type": "markdown",
   "id": "dbfdfe0a",
   "metadata": {
    "papermill": {
     "duration": 0.004263,
     "end_time": "2024-05-28T21:17:43.596197",
     "exception": false,
     "start_time": "2024-05-28T21:17:43.591934",
     "status": "completed"
    },
    "tags": []
   },
   "source": [
    "## Heart Failure prediction \n",
    "Problem statement: To predict the patient will have heart failure based on its medical reports and whether he smokes. The features included in this are the age of the patient, if the patient suffers from anaemia and diabetes, the fraction of blood pumping out of the heart."
   ]
  },
  {
   "cell_type": "markdown",
   "id": "9991ee84",
   "metadata": {
    "papermill": {
     "duration": 0.003545,
     "end_time": "2024-05-28T21:17:43.604220",
     "exception": false,
     "start_time": "2024-05-28T21:17:43.600675",
     "status": "completed"
    },
    "tags": []
   },
   "source": [
    "Dataset description:<br><br>\n",
    "age: age of the patient (years) <br>\n",
    "anaemia: decrease of red blood cells or hemoglobin (boolean)<br>\n",
    "creatinine phosphokinase (CPK): level of the CPK enzyme in the blood (mcg/L)<br>\n",
    "diabetes: if the patient has diabetes (boolean)<br>\n",
    "ejection fraction: percentage of blood leaving the heart at each contraction (percentage)<br>\n",
    "high blood pressure: if the patient has hypertension (boolean)<br>\n",
    "platelets: platelets in the blood (kiloplatelets/mL)<br>\n",
    "sex: woman or man (binary)<br>\n",
    "serum creatinine: level of serum creatinine in the blood (mg/dL)<br>\n",
    "serum sodium: level of serum sodium in the blood (mEq/L)<br>\n",
    "smoking: if the patient smokes or not (boolean)<br>\n",
    "time: follow-up period (days)<br>\n",
    "DEATH_EVENT: if the patient died during the follow-up period (boolean)<br>"
   ]
  },
  {
   "cell_type": "code",
   "execution_count": 1,
   "id": "b5c4bf10",
   "metadata": {
    "execution": {
     "iopub.execute_input": "2024-05-28T21:17:43.613613Z",
     "iopub.status.busy": "2024-05-28T21:17:43.613159Z",
     "iopub.status.idle": "2024-05-28T21:17:44.520207Z",
     "shell.execute_reply": "2024-05-28T21:17:44.519105Z"
    },
    "papermill": {
     "duration": 0.915579,
     "end_time": "2024-05-28T21:17:44.523579",
     "exception": false,
     "start_time": "2024-05-28T21:17:43.608000",
     "status": "completed"
    },
    "tags": []
   },
   "outputs": [
    {
     "name": "stdout",
     "output_type": "stream",
     "text": [
      "/kaggle/input/heart-failure-prediction-clinical-records/heart_failure_clinical_records.csv\n"
     ]
    }
   ],
   "source": [
    "import numpy as np\n",
    "import pandas as pd\n",
    "import matplotlib.pyplot as plt\n",
    "import os\n",
    "for dirname, _, filenames in os.walk('/kaggle/input'):\n",
    "    for filename in filenames:\n",
    "        print(os.path.join(dirname, filename))"
   ]
  },
  {
   "cell_type": "code",
   "execution_count": 2,
   "id": "51e3cae2",
   "metadata": {
    "execution": {
     "iopub.execute_input": "2024-05-28T21:17:44.534513Z",
     "iopub.status.busy": "2024-05-28T21:17:44.533990Z",
     "iopub.status.idle": "2024-05-28T21:17:44.585922Z",
     "shell.execute_reply": "2024-05-28T21:17:44.584188Z"
    },
    "papermill": {
     "duration": 0.06016,
     "end_time": "2024-05-28T21:17:44.588727",
     "exception": false,
     "start_time": "2024-05-28T21:17:44.528567",
     "status": "completed"
    },
    "tags": []
   },
   "outputs": [
    {
     "name": "stdout",
     "output_type": "stream",
     "text": [
      "<class 'pandas.core.frame.DataFrame'>\n",
      "RangeIndex: 5000 entries, 0 to 4999\n",
      "Data columns (total 13 columns):\n",
      " #   Column                    Non-Null Count  Dtype  \n",
      "---  ------                    --------------  -----  \n",
      " 0   age                       5000 non-null   float64\n",
      " 1   anaemia                   5000 non-null   int64  \n",
      " 2   creatinine_phosphokinase  5000 non-null   int64  \n",
      " 3   diabetes                  5000 non-null   int64  \n",
      " 4   ejection_fraction         5000 non-null   int64  \n",
      " 5   high_blood_pressure       5000 non-null   int64  \n",
      " 6   platelets                 5000 non-null   float64\n",
      " 7   serum_creatinine          5000 non-null   float64\n",
      " 8   serum_sodium              5000 non-null   int64  \n",
      " 9   sex                       5000 non-null   int64  \n",
      " 10  smoking                   5000 non-null   int64  \n",
      " 11  time                      5000 non-null   int64  \n",
      " 12  DEATH_EVENT               5000 non-null   int64  \n",
      "dtypes: float64(3), int64(10)\n",
      "memory usage: 507.9 KB\n"
     ]
    }
   ],
   "source": [
    "df = pd.read_csv(\"/kaggle/input/heart-failure-prediction-clinical-records/heart_failure_clinical_records.csv\")\n",
    "df.info()"
   ]
  },
  {
   "cell_type": "code",
   "execution_count": 3,
   "id": "3d301293",
   "metadata": {
    "execution": {
     "iopub.execute_input": "2024-05-28T21:17:44.598628Z",
     "iopub.status.busy": "2024-05-28T21:17:44.598230Z",
     "iopub.status.idle": "2024-05-28T21:17:44.622085Z",
     "shell.execute_reply": "2024-05-28T21:17:44.620981Z"
    },
    "papermill": {
     "duration": 0.031626,
     "end_time": "2024-05-28T21:17:44.624412",
     "exception": false,
     "start_time": "2024-05-28T21:17:44.592786",
     "status": "completed"
    },
    "tags": []
   },
   "outputs": [
    {
     "data": {
      "text/html": [
       "<div>\n",
       "<style scoped>\n",
       "    .dataframe tbody tr th:only-of-type {\n",
       "        vertical-align: middle;\n",
       "    }\n",
       "\n",
       "    .dataframe tbody tr th {\n",
       "        vertical-align: top;\n",
       "    }\n",
       "\n",
       "    .dataframe thead th {\n",
       "        text-align: right;\n",
       "    }\n",
       "</style>\n",
       "<table border=\"1\" class=\"dataframe\">\n",
       "  <thead>\n",
       "    <tr style=\"text-align: right;\">\n",
       "      <th></th>\n",
       "      <th>age</th>\n",
       "      <th>anaemia</th>\n",
       "      <th>creatinine_phosphokinase</th>\n",
       "      <th>diabetes</th>\n",
       "      <th>ejection_fraction</th>\n",
       "      <th>high_blood_pressure</th>\n",
       "      <th>platelets</th>\n",
       "      <th>serum_creatinine</th>\n",
       "      <th>serum_sodium</th>\n",
       "      <th>sex</th>\n",
       "      <th>smoking</th>\n",
       "      <th>time</th>\n",
       "      <th>DEATH_EVENT</th>\n",
       "    </tr>\n",
       "  </thead>\n",
       "  <tbody>\n",
       "    <tr>\n",
       "      <th>0</th>\n",
       "      <td>55.0</td>\n",
       "      <td>0</td>\n",
       "      <td>748</td>\n",
       "      <td>0</td>\n",
       "      <td>45</td>\n",
       "      <td>0</td>\n",
       "      <td>263358.03</td>\n",
       "      <td>1.3</td>\n",
       "      <td>137</td>\n",
       "      <td>1</td>\n",
       "      <td>1</td>\n",
       "      <td>88</td>\n",
       "      <td>0</td>\n",
       "    </tr>\n",
       "    <tr>\n",
       "      <th>1</th>\n",
       "      <td>65.0</td>\n",
       "      <td>0</td>\n",
       "      <td>56</td>\n",
       "      <td>0</td>\n",
       "      <td>25</td>\n",
       "      <td>0</td>\n",
       "      <td>305000.00</td>\n",
       "      <td>5.0</td>\n",
       "      <td>130</td>\n",
       "      <td>1</td>\n",
       "      <td>0</td>\n",
       "      <td>207</td>\n",
       "      <td>0</td>\n",
       "    </tr>\n",
       "    <tr>\n",
       "      <th>2</th>\n",
       "      <td>45.0</td>\n",
       "      <td>0</td>\n",
       "      <td>582</td>\n",
       "      <td>1</td>\n",
       "      <td>38</td>\n",
       "      <td>0</td>\n",
       "      <td>319000.00</td>\n",
       "      <td>0.9</td>\n",
       "      <td>140</td>\n",
       "      <td>0</td>\n",
       "      <td>0</td>\n",
       "      <td>244</td>\n",
       "      <td>0</td>\n",
       "    </tr>\n",
       "  </tbody>\n",
       "</table>\n",
       "</div>"
      ],
      "text/plain": [
       "    age  anaemia  creatinine_phosphokinase  diabetes  ejection_fraction  \\\n",
       "0  55.0        0                       748         0                 45   \n",
       "1  65.0        0                        56         0                 25   \n",
       "2  45.0        0                       582         1                 38   \n",
       "\n",
       "   high_blood_pressure  platelets  serum_creatinine  serum_sodium  sex  \\\n",
       "0                    0  263358.03               1.3           137    1   \n",
       "1                    0  305000.00               5.0           130    1   \n",
       "2                    0  319000.00               0.9           140    0   \n",
       "\n",
       "   smoking  time  DEATH_EVENT  \n",
       "0        1    88            0  \n",
       "1        0   207            0  \n",
       "2        0   244            0  "
      ]
     },
     "execution_count": 3,
     "metadata": {},
     "output_type": "execute_result"
    }
   ],
   "source": [
    "df.head(3)"
   ]
  },
  {
   "cell_type": "code",
   "execution_count": 4,
   "id": "bedec7fb",
   "metadata": {
    "execution": {
     "iopub.execute_input": "2024-05-28T21:17:44.635036Z",
     "iopub.status.busy": "2024-05-28T21:17:44.634105Z",
     "iopub.status.idle": "2024-05-28T21:17:44.646677Z",
     "shell.execute_reply": "2024-05-28T21:17:44.645651Z"
    },
    "papermill": {
     "duration": 0.020194,
     "end_time": "2024-05-28T21:17:44.648845",
     "exception": false,
     "start_time": "2024-05-28T21:17:44.628651",
     "status": "completed"
    },
    "tags": []
   },
   "outputs": [
    {
     "data": {
      "text/plain": [
       "age                         float64\n",
       "anaemia                        bool\n",
       "creatinine_phosphokinase      int64\n",
       "diabetes                       bool\n",
       "ejection_fraction             int64\n",
       "high_blood_pressure            bool\n",
       "platelets                   float64\n",
       "serum_creatinine            float64\n",
       "serum_sodium                  int64\n",
       "sex                           int64\n",
       "smoking                        bool\n",
       "time                          int64\n",
       "DEATH_EVENT                    bool\n",
       "dtype: object"
      ]
     },
     "execution_count": 4,
     "metadata": {},
     "output_type": "execute_result"
    }
   ],
   "source": [
    "def int_to_bool(df,x):\n",
    "    df[x] = df[x].astype(bool)\n",
    "    return df\n",
    "\n",
    "df = int_to_bool(df,'anaemia')\n",
    "df = int_to_bool(df,'diabetes')\n",
    "df = int_to_bool(df,'high_blood_pressure')\n",
    "df = int_to_bool(df,'smoking')\n",
    "df = int_to_bool(df,'DEATH_EVENT')\n",
    "\n",
    "df.dtypes"
   ]
  },
  {
   "cell_type": "markdown",
   "id": "74cab75a",
   "metadata": {
    "papermill": {
     "duration": 0.004022,
     "end_time": "2024-05-28T21:17:44.657218",
     "exception": false,
     "start_time": "2024-05-28T21:17:44.653196",
     "status": "completed"
    },
    "tags": []
   },
   "source": [
    "### Data cleaning"
   ]
  },
  {
   "cell_type": "code",
   "execution_count": 5,
   "id": "a284adfe",
   "metadata": {
    "execution": {
     "iopub.execute_input": "2024-05-28T21:17:44.668155Z",
     "iopub.status.busy": "2024-05-28T21:17:44.667197Z",
     "iopub.status.idle": "2024-05-28T21:17:44.690120Z",
     "shell.execute_reply": "2024-05-28T21:17:44.688867Z"
    },
    "papermill": {
     "duration": 0.031071,
     "end_time": "2024-05-28T21:17:44.692513",
     "exception": false,
     "start_time": "2024-05-28T21:17:44.661442",
     "status": "completed"
    },
    "tags": []
   },
   "outputs": [
    {
     "name": "stdout",
     "output_type": "stream",
     "text": [
      "Number of null values: 0 \n",
      "Number of duplicate values: 3680 \n",
      "Original data shape: 5000\n"
     ]
    },
    {
     "data": {
      "text/plain": [
       "(1320, 13)"
      ]
     },
     "execution_count": 5,
     "metadata": {},
     "output_type": "execute_result"
    }
   ],
   "source": [
    "null_count = df.isnull().sum().sum()\n",
    "duplicate_count = df.duplicated().sum()\n",
    "print(\"Number of null values:\", null_count, \n",
    "      \"\\nNumber of duplicate values:\", duplicate_count,\n",
    "      '\\nOriginal data shape:', df.shape[0])\n",
    "\n",
    "df = df.drop_duplicates()\n",
    "df.shape"
   ]
  },
  {
   "cell_type": "code",
   "execution_count": 6,
   "id": "2b5b21cb",
   "metadata": {
    "execution": {
     "iopub.execute_input": "2024-05-28T21:17:44.703755Z",
     "iopub.status.busy": "2024-05-28T21:17:44.703277Z",
     "iopub.status.idle": "2024-05-28T21:17:44.715284Z",
     "shell.execute_reply": "2024-05-28T21:17:44.714175Z"
    },
    "papermill": {
     "duration": 0.020198,
     "end_time": "2024-05-28T21:17:44.717398",
     "exception": false,
     "start_time": "2024-05-28T21:17:44.697200",
     "status": "completed"
    },
    "tags": []
   },
   "outputs": [
    {
     "data": {
      "text/plain": [
       "DEATH_EVENT\n",
       "False    923\n",
       "True     397\n",
       "Name: count, dtype: int64"
      ]
     },
     "execution_count": 6,
     "metadata": {},
     "output_type": "execute_result"
    }
   ],
   "source": [
    "# creating a datafram with necessary features\n",
    "\n",
    "features = ['age','anaemia','creatinine_phosphokinase','diabetes','ejection_fraction','high_blood_pressure','platelets','DEATH_EVENT','time']\n",
    "\n",
    "data = df[features]\n",
    "\n",
    "# to count the number of true and false values\n",
    "data['DEATH_EVENT'].value_counts()"
   ]
  },
  {
   "cell_type": "code",
   "execution_count": 7,
   "id": "a30f8c77",
   "metadata": {
    "execution": {
     "iopub.execute_input": "2024-05-28T21:17:44.728856Z",
     "iopub.status.busy": "2024-05-28T21:17:44.728070Z",
     "iopub.status.idle": "2024-05-28T21:17:45.887969Z",
     "shell.execute_reply": "2024-05-28T21:17:45.886977Z"
    },
    "papermill": {
     "duration": 1.168389,
     "end_time": "2024-05-28T21:17:45.890449",
     "exception": false,
     "start_time": "2024-05-28T21:17:44.722060",
     "status": "completed"
    },
    "tags": []
   },
   "outputs": [],
   "source": [
    "# splitting the dataset into train and test sets\n",
    "\n",
    "from sklearn.model_selection import train_test_split\n",
    "X_train, X_test, y_train, y_test = train_test_split(data.drop('DEATH_EVENT',axis=1), \n",
    "                                                    data['DEATH_EVENT'], test_size=0.30, \n",
    "                                                    random_state=101)"
   ]
  },
  {
   "cell_type": "code",
   "execution_count": 8,
   "id": "73f0989b",
   "metadata": {
    "execution": {
     "iopub.execute_input": "2024-05-28T21:17:45.901631Z",
     "iopub.status.busy": "2024-05-28T21:17:45.901262Z",
     "iopub.status.idle": "2024-05-28T21:17:46.028822Z",
     "shell.execute_reply": "2024-05-28T21:17:46.027788Z"
    },
    "papermill": {
     "duration": 0.135875,
     "end_time": "2024-05-28T21:17:46.031225",
     "exception": false,
     "start_time": "2024-05-28T21:17:45.895350",
     "status": "completed"
    },
    "tags": []
   },
   "outputs": [
    {
     "data": {
      "text/html": [
       "<style>#sk-container-id-1 {color: black;background-color: white;}#sk-container-id-1 pre{padding: 0;}#sk-container-id-1 div.sk-toggleable {background-color: white;}#sk-container-id-1 label.sk-toggleable__label {cursor: pointer;display: block;width: 100%;margin-bottom: 0;padding: 0.3em;box-sizing: border-box;text-align: center;}#sk-container-id-1 label.sk-toggleable__label-arrow:before {content: \"▸\";float: left;margin-right: 0.25em;color: #696969;}#sk-container-id-1 label.sk-toggleable__label-arrow:hover:before {color: black;}#sk-container-id-1 div.sk-estimator:hover label.sk-toggleable__label-arrow:before {color: black;}#sk-container-id-1 div.sk-toggleable__content {max-height: 0;max-width: 0;overflow: hidden;text-align: left;background-color: #f0f8ff;}#sk-container-id-1 div.sk-toggleable__content pre {margin: 0.2em;color: black;border-radius: 0.25em;background-color: #f0f8ff;}#sk-container-id-1 input.sk-toggleable__control:checked~div.sk-toggleable__content {max-height: 200px;max-width: 100%;overflow: auto;}#sk-container-id-1 input.sk-toggleable__control:checked~label.sk-toggleable__label-arrow:before {content: \"▾\";}#sk-container-id-1 div.sk-estimator input.sk-toggleable__control:checked~label.sk-toggleable__label {background-color: #d4ebff;}#sk-container-id-1 div.sk-label input.sk-toggleable__control:checked~label.sk-toggleable__label {background-color: #d4ebff;}#sk-container-id-1 input.sk-hidden--visually {border: 0;clip: rect(1px 1px 1px 1px);clip: rect(1px, 1px, 1px, 1px);height: 1px;margin: -1px;overflow: hidden;padding: 0;position: absolute;width: 1px;}#sk-container-id-1 div.sk-estimator {font-family: monospace;background-color: #f0f8ff;border: 1px dotted black;border-radius: 0.25em;box-sizing: border-box;margin-bottom: 0.5em;}#sk-container-id-1 div.sk-estimator:hover {background-color: #d4ebff;}#sk-container-id-1 div.sk-parallel-item::after {content: \"\";width: 100%;border-bottom: 1px solid gray;flex-grow: 1;}#sk-container-id-1 div.sk-label:hover label.sk-toggleable__label {background-color: #d4ebff;}#sk-container-id-1 div.sk-serial::before {content: \"\";position: absolute;border-left: 1px solid gray;box-sizing: border-box;top: 0;bottom: 0;left: 50%;z-index: 0;}#sk-container-id-1 div.sk-serial {display: flex;flex-direction: column;align-items: center;background-color: white;padding-right: 0.2em;padding-left: 0.2em;position: relative;}#sk-container-id-1 div.sk-item {position: relative;z-index: 1;}#sk-container-id-1 div.sk-parallel {display: flex;align-items: stretch;justify-content: center;background-color: white;position: relative;}#sk-container-id-1 div.sk-item::before, #sk-container-id-1 div.sk-parallel-item::before {content: \"\";position: absolute;border-left: 1px solid gray;box-sizing: border-box;top: 0;bottom: 0;left: 50%;z-index: -1;}#sk-container-id-1 div.sk-parallel-item {display: flex;flex-direction: column;z-index: 1;position: relative;background-color: white;}#sk-container-id-1 div.sk-parallel-item:first-child::after {align-self: flex-end;width: 50%;}#sk-container-id-1 div.sk-parallel-item:last-child::after {align-self: flex-start;width: 50%;}#sk-container-id-1 div.sk-parallel-item:only-child::after {width: 0;}#sk-container-id-1 div.sk-dashed-wrapped {border: 1px dashed gray;margin: 0 0.4em 0.5em 0.4em;box-sizing: border-box;padding-bottom: 0.4em;background-color: white;}#sk-container-id-1 div.sk-label label {font-family: monospace;font-weight: bold;display: inline-block;line-height: 1.2em;}#sk-container-id-1 div.sk-label-container {text-align: center;}#sk-container-id-1 div.sk-container {/* jupyter's `normalize.less` sets `[hidden] { display: none; }` but bootstrap.min.css set `[hidden] { display: none !important; }` so we also need the `!important` here to be able to override the default hidden behavior on the sphinx rendered scikit-learn.org. See: https://github.com/scikit-learn/scikit-learn/issues/21755 */display: inline-block !important;position: relative;}#sk-container-id-1 div.sk-text-repr-fallback {display: none;}</style><div id=\"sk-container-id-1\" class=\"sk-top-container\"><div class=\"sk-text-repr-fallback\"><pre>LogisticRegression(max_iter=1000)</pre><b>In a Jupyter environment, please rerun this cell to show the HTML representation or trust the notebook. <br />On GitHub, the HTML representation is unable to render, please try loading this page with nbviewer.org.</b></div><div class=\"sk-container\" hidden><div class=\"sk-item\"><div class=\"sk-estimator sk-toggleable\"><input class=\"sk-toggleable__control sk-hidden--visually\" id=\"sk-estimator-id-1\" type=\"checkbox\" checked><label for=\"sk-estimator-id-1\" class=\"sk-toggleable__label sk-toggleable__label-arrow\">LogisticRegression</label><div class=\"sk-toggleable__content\"><pre>LogisticRegression(max_iter=1000)</pre></div></div></div></div></div>"
      ],
      "text/plain": [
       "LogisticRegression(max_iter=1000)"
      ]
     },
     "execution_count": 8,
     "metadata": {},
     "output_type": "execute_result"
    }
   ],
   "source": [
    "# training the logistic regression model\n",
    "\n",
    "from sklearn.linear_model import LogisticRegression\n",
    "model = LogisticRegression(max_iter=1000)\n",
    "model.fit(X_train,y_train)"
   ]
  },
  {
   "cell_type": "code",
   "execution_count": 9,
   "id": "f628e5c9",
   "metadata": {
    "execution": {
     "iopub.execute_input": "2024-05-28T21:17:46.043108Z",
     "iopub.status.busy": "2024-05-28T21:17:46.042168Z",
     "iopub.status.idle": "2024-05-28T21:17:46.055627Z",
     "shell.execute_reply": "2024-05-28T21:17:46.054414Z"
    },
    "papermill": {
     "duration": 0.021619,
     "end_time": "2024-05-28T21:17:46.057786",
     "exception": false,
     "start_time": "2024-05-28T21:17:46.036167",
     "status": "completed"
    },
    "tags": []
   },
   "outputs": [
    {
     "name": "stdout",
     "output_type": "stream",
     "text": [
      "Accuracy score:  0.8484848484848485 \n",
      "F1 score:  0.702970297029703\n"
     ]
    }
   ],
   "source": [
    "# testing the accuracy of the model\n",
    "\n",
    "predictions = model.predict(X_test)\n",
    "from sklearn.metrics import f1_score,accuracy_score\n",
    "print(\"Accuracy score: \",accuracy_score(y_test,predictions),\n",
    "      \"\\nF1 score: \",f1_score(y_test,predictions))"
   ]
  },
  {
   "cell_type": "code",
   "execution_count": 10,
   "id": "419d71ed",
   "metadata": {
    "execution": {
     "iopub.execute_input": "2024-05-28T21:17:46.069517Z",
     "iopub.status.busy": "2024-05-28T21:17:46.069026Z",
     "iopub.status.idle": "2024-05-28T21:17:46.370213Z",
     "shell.execute_reply": "2024-05-28T21:17:46.369179Z"
    },
    "papermill": {
     "duration": 0.309649,
     "end_time": "2024-05-28T21:17:46.372431",
     "exception": false,
     "start_time": "2024-05-28T21:17:46.062782",
     "status": "completed"
    },
    "tags": []
   },
   "outputs": [
    {
     "data": {
      "image/png": "[encoded data removed]",
      "text/plain": [
       "<Figure size 640x480 with 2 Axes>"
      ]
     },
     "metadata": {},
     "output_type": "display_data"
    }
   ],
   "source": [
    "from sklearn.metrics import confusion_matrix, ConfusionMatrixDisplay\n",
    "cm = confusion_matrix(y_test, predictions)\n",
    "disp = ConfusionMatrixDisplay(confusion_matrix=cm, display_labels=model.classes_)\n",
    "disp.plot(cmap=plt.cm.Blues)\n",
    "plt.show()"
   ]
  },
  {
   "cell_type": "markdown",
   "id": "86d65e2a",
   "metadata": {
    "papermill": {
     "duration": 0.004922,
     "end_time": "2024-05-28T21:17:46.382646",
     "exception": false,
     "start_time": "2024-05-28T21:17:46.377724",
     "status": "completed"
    },
    "tags": []
   },
   "source": [
    "### Conclusion:\n",
    "The F-1 score for the model is calculated and the accuracy of the model which comes out to be 70.30% and 84.85% respectively. The F-1 score is chosen because the problem at hand was a binary problem and F-1 score is dependent on the precision and recall of the model. \n",
    "\n",
    "The confusion matrix shows us that the model is good at predicting the death events as False than the class True which could be due to several reasons as an unbalanced dataset and the lack of the data in the dataset which could cause a bias amongst the classes and overall a skewed dataset (True = 397, False = 923). \n",
    "\n",
    "CPK, and specifically its cardiac isoenzyme CK-MB, plays a significant role in the context of heart failure. While CK-MB is primarily known as a marker for myocardial injury, its function in energy metabolism is crucial for cardiac performance. Elevated CK-MB levels can indicate myocardial stress or injury, providing valuable information for the diagnosis and management of heart failure. The levels of CPK are found lower in a smoking person than a non-smoking which could be the leading cause of heart failure. Smoking adversely affects CPK levels primarily by causing myocardial and skeletal muscle injury through mechanisms involving oxidative stress, inflammation, and ischemia. Elevated CPK levels in smokers can indicate underlying cardiovascular stress or damage, necessitating careful clinical assessment and monitoring."
   ]
  }
 ],
 "metadata": {
  "kaggle": {
   "accelerator": "none",
   "dataSources": [
    {
     "datasetId": 4941995,
     "sourceId": 8320058,
     "sourceType": "datasetVersion"
    }
   ],
   "dockerImageVersionId": 30698,
   "isGpuEnabled": false,
   "isInternetEnabled": false,
   "language": "python",
   "sourceType": "notebook"
  },
  "kernelspec": {
   "display_name": "Python 3",
   "language": "python",
   "name": "python3"
  },
  "language_info": {
   "codemirror_mode": {
    "name": "ipython",
    "version": 3
   },
   "file_extension": ".py",
   "mimetype": "text/x-python",
   "name": "python",
   "nbconvert_exporter": "python",
   "pygments_lexer": "ipython3",
   "version": "3.10.13"
  },
  "papermill": {
   "default_parameters": {},
   "duration": 5.962574,
   "end_time": "2024-05-28T21:17:46.909960",
   "environment_variables": {},
   "exception": null,
   "input_path": "__notebook__.ipynb",
   "output_path": "__notebook__.ipynb",
   "parameters": {},
   "start_time": "2024-05-28T21:17:40.947386",
   "version": "2.5.0"
  }
 },
 "nbformat": 4,
 "nbformat_minor": 5
}
